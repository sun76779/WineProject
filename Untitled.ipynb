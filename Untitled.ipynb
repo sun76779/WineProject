{
 "cells": [
  {
   "cell_type": "code",
   "execution_count": null,
   "metadata": {},
   "outputs": [
    {
     "data": {
      "text/plain": [
       "Text(0,0.5,'Price')"
      ]
     },
     "execution_count": 1,
     "metadata": {},
     "output_type": "execute_result"
    }
   ],
   "source": [
    "%matplotlib inline\n",
    "import pandas as pd\n",
    "import matplotlib\n",
    "import seaborn as sns; sns.set()\n",
    "import csv\n",
    "import matplotlib.pyplot as plt\n",
    "import numpy as np\n",
    "\n",
    "wine_data_to_load = \"winemag-data-130k-v2.csv\"\n",
    "\n",
    "wine_data = pd.read_csv(wine_data_to_load)\n",
    "\n",
    "\n",
    "\n",
    "grouped = wine_data.groupby([\"winery\"]).mean().reset_index(drop=False).dropna() \\\n",
    "                   .sort_values(by='price',ascending=[0])\n",
    "grouped.dtypes\n",
    "plt.figure(figsize=(20,5))\n",
    "plt.barh(grouped['winery'], grouped['price'], color=\"b\", align=\"center\")\n",
    "#plt.ylim(80, 100)\n",
    "\n",
    "# Give the chart a title, x label, and y label\n",
    "plt.title(\"Winery x Price\")\n",
    "plt.xlabel(\"Winery\")\n",
    "plt.ylabel(\"Price\")\n",
    "\n",
    "\n",
    "\n",
    "\n",
    "grouped = wine_data.groupby([\"winery\"]).mean().reset_index(drop=False).dropna() \\\n",
    "                   .sort_values(by='points',ascending=[0])\n",
    "grouped.dtypes\n",
    "plt.figure(figsize=(12,5))\n",
    "plt.barh(grouped['winery'], grouped['points'], color=\"b\", align=\"center\")\n",
    "#plt.ylim(80, 100)\n",
    "\n",
    "# Give the chart a title, x label, and y label\n",
    "plt.title(\"Winery x Points\")\n",
    "plt.xlabel(\"Winery\")\n",
    "plt.ylabel(\"Points\")\n",
    "   \n",
    "   \n",
    "   \n",
    "   \n",
    "grouped2 = wine_data.groupby([\"variety\"]).mean().reset_index(drop=False).dropna() \\\n",
    "                   .sort_values(by='price',ascending=[0])\n",
    "grouped2.dtypes\n",
    "plt.figure(figsize=(12,5))\n",
    "plt.barh(grouped2['variety'], grouped2['price'], color=\"b\", align=\"center\")\n",
    "#plt.ylim(80, 100)\n",
    "\n",
    "# Give the chart a title, x label, and y label\n",
    "plt.title(\"Variety x Price\")\n",
    "plt.xlabel(\"Variety\")\n",
    "plt.ylabel(\"Price\")\n",
    "   \n",
    "   \n",
    "\n",
    "   \n",
    "grouped2 = wine_data.groupby([\"variety\"]).mean().reset_index(drop=False).dropna() \\\n",
    "                   .sort_values(by='points',ascending=[0])\n",
    "grouped2.dtypes\n",
    "plt.figure(figsize=(12,5))\n",
    "plt.barh(grouped2['variety'], grouped2['points'], color=\"b\", align=\"center\")\n",
    "#plt.ylim(80, 100)\n",
    "\n",
    "# Give the chart a title, x label, and y label\n",
    "plt.title(\"Variety x points\")\n",
    "plt.xlabel(\"Points\")\n",
    "plt.ylabel(\"Points\")\n",
    "   \n",
    "\n",
    "\n",
    "plt.scatter(wine_data[\"points\"], wine_data[\"price\"], marker=\"o\", facecolors=\"red\", edgecolors=\"black\")\n",
    "\n",
    "plt.title(\"Price v Points\")\n",
    "plt.xlabel(\"Points\")\n",
    "plt.ylabel(\"Price\")"
   ]
  },
  {
   "cell_type": "code",
   "execution_count": null,
   "metadata": {},
   "outputs": [],
   "source": []
  }
 ],
 "metadata": {
  "kernelspec": {
   "display_name": "Python 3",
   "language": "python",
   "name": "python3"
  },
  "language_info": {
   "codemirror_mode": {
    "name": "ipython",
    "version": 3
   },
   "file_extension": ".py",
   "mimetype": "text/x-python",
   "name": "python",
   "nbconvert_exporter": "python",
   "pygments_lexer": "ipython3",
   "version": "3.6.4"
  }
 },
 "nbformat": 4,
 "nbformat_minor": 2
}
